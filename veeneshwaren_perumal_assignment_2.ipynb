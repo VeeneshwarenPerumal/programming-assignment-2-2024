{
  "nbformat": 4,
  "nbformat_minor": 0,
  "metadata": {
    "colab": {
      "provenance": [],
      "include_colab_link": true
    },
    "kernelspec": {
      "name": "python3",
      "display_name": "Python 3"
    },
    "language_info": {
      "name": "python"
    }
  },
  "cells": [
    {
      "cell_type": "markdown",
      "metadata": {
        "id": "view-in-github",
        "colab_type": "text"
      },
      "source": [
        "<a href=\"https://colab.research.google.com/github/VeeneshwarenPerumal/programming-assignment-2-2024/blob/main/veeneshwaren_perumal_assignment_2.ipynb\" target=\"_parent\"><img src=\"https://colab.research.google.com/assets/colab-badge.svg\" alt=\"Open In Colab\"/></a>"
      ]
    },
    {
      "cell_type": "code",
      "execution_count": 1,
      "metadata": {
        "colab": {
          "base_uri": "https://localhost:8080/"
        },
        "id": "r3iiSk4gOTTF",
        "outputId": "4f027995-69d7-48e7-c0a5-c7bac63d061e"
      },
      "outputs": [
        {
          "output_type": "stream",
          "name": "stdout",
          "text": [
            "Generating public/private rsa key pair.\n",
            "Created directory '/root/.ssh'.\n",
            "Your identification has been saved in /root/.ssh/id_rsa\n",
            "Your public key has been saved in /root/.ssh/id_rsa.pub\n",
            "The key fingerprint is:\n",
            "SHA256:oK65hY+7G4wSBI+1euUPVv+FIGCqDsunaTK/6S3M1w8 root@9d8f8cab4bd5\n",
            "The key's randomart image is:\n",
            "+---[RSA 4096]----+\n",
            "|. . o            |\n",
            "|.+ + .           |\n",
            "|..+ . + .        |\n",
            "|.o o o + . .     |\n",
            "|= . =   S . .    |\n",
            "|+* + o   . .     |\n",
            "|+=+.o.E   .      |\n",
            "|+.BX. ..         |\n",
            "|o*&Oo  ..        |\n",
            "+----[SHA256]-----+\n"
          ]
        }
      ],
      "source": [
        "!ssh-keygen -t rsa -b 4096 -f ~/.ssh/id_rsa -N ''"
      ]
    },
    {
      "cell_type": "code",
      "source": [
        " !ssh-keyscan -t rsa github.com >> ~/.ssh/https://github.com/VeeneshwarenPerumal/pragramming-assignment-2-2024.git"
      ],
      "metadata": {
        "colab": {
          "base_uri": "https://localhost:8080/"
        },
        "id": "zawIVaTvOfXp",
        "outputId": "afbb6885-c1e4-459a-883f-dfa50e1418ae"
      },
      "execution_count": 12,
      "outputs": [
        {
          "output_type": "stream",
          "name": "stdout",
          "text": [
            "/bin/bash: line 1: /root/.ssh/https://github.com/VeeneshwarenPerumal/pragramming-assignment-2-2024.git: No such file or directory\n"
          ]
        }
      ]
    },
    {
      "cell_type": "code",
      "source": [
        "!cat ~/.ssh/id_rsa.pub"
      ],
      "metadata": {
        "colab": {
          "base_uri": "https://localhost:8080/"
        },
        "id": "zoYJCABFOjZD",
        "outputId": "c755cfb1-3497-4c86-f406-739f55c7743d"
      },
      "execution_count": 7,
      "outputs": [
        {
          "output_type": "stream",
          "name": "stdout",
          "text": [
            "ssh-rsa AAAAB3NzaC1yc2EAAAADAQABAAACAQC1gvX6kF4GHyRQJMkcKDuYPVFoTIvPChhqKv7AyXpCDJNKqgwQLdJpwohZvegKqWJyS5FNOtReMMLe1vmU3wpnqdLcJHajI7a+lkptyHV0c/L01C715v0zaqN9qYtFcXdtza2pD6nHLnu/58Ss6YrHqmX81e/Lbrj/ZEOKhYnt2YeBnyDd170RPF8IMAD9TMf95//pGZ78rMuAxMAAq2NM29bMlyrdPH941sJQYGdlpugSvE/6kehwIpPJoAHyjKBiQrksZP4Psg6XtjbwY8IIe3Dv9lpkZbqwNol9HJTQj24+mDTOMWTxkq1EaC4A3MR2mPwSp5Lu/+NV1mzaDpavB97pWvqB+tWBgCXHdA9WwJ7tstUeY3OMgezzriSMI+ha6dlwBaZEjDDErTJTY50IGT6VPDS2QyiqKX5WpqYjrxMAQI343JEB1mE6KhkgZo69czGle9/vjgGOMkCjDdQ+K4tAURL5d/AjmxnKSuwvr1bd5wOR7V1jQyUHY+J4qI9vsiV1o4UigMjzYVWNNwkH4B+8cJV8H+VNmv36huPzvJ3GcLW8/Nwzp7/zpFsYw5149zDY7uz8DsHodIVjXkeV02mFZAaSVi6wmja07Beocld7xNM3xM/EQkgZfK03TTcioDPpdEQVcpncLftQTltu9q1Qgn+H3EsfXhgo6tPxIQ== root@9d8f8cab4bd5\n"
          ]
        }
      ]
    },
    {
      "cell_type": "code",
      "source": [
        "!cat ~/.ssh/id_rsa.pub"
      ],
      "metadata": {
        "colab": {
          "base_uri": "https://localhost:8080/"
        },
        "id": "GVQk_PxKOpeM",
        "outputId": "8e5fc11d-79c7-4249-e491-1d2e7bf605da"
      },
      "execution_count": 4,
      "outputs": [
        {
          "output_type": "stream",
          "name": "stdout",
          "text": [
            "ssh-rsa AAAAB3NzaC1yc2EAAAADAQABAAACAQC1gvX6kF4GHyRQJMkcKDuYPVFoTIvPChhqKv7AyXpCDJNKqgwQLdJpwohZvegKqWJyS5FNOtReMMLe1vmU3wpnqdLcJHajI7a+lkptyHV0c/L01C715v0zaqN9qYtFcXdtza2pD6nHLnu/58Ss6YrHqmX81e/Lbrj/ZEOKhYnt2YeBnyDd170RPF8IMAD9TMf95//pGZ78rMuAxMAAq2NM29bMlyrdPH941sJQYGdlpugSvE/6kehwIpPJoAHyjKBiQrksZP4Psg6XtjbwY8IIe3Dv9lpkZbqwNol9HJTQj24+mDTOMWTxkq1EaC4A3MR2mPwSp5Lu/+NV1mzaDpavB97pWvqB+tWBgCXHdA9WwJ7tstUeY3OMgezzriSMI+ha6dlwBaZEjDDErTJTY50IGT6VPDS2QyiqKX5WpqYjrxMAQI343JEB1mE6KhkgZo69czGle9/vjgGOMkCjDdQ+K4tAURL5d/AjmxnKSuwvr1bd5wOR7V1jQyUHY+J4qI9vsiV1o4UigMjzYVWNNwkH4B+8cJV8H+VNmv36huPzvJ3GcLW8/Nwzp7/zpFsYw5149zDY7uz8DsHodIVjXkeV02mFZAaSVi6wmja07Beocld7xNM3xM/EQkgZfK03TTcioDPpdEQVcpncLftQTltu9q1Qgn+H3EsfXhgo6tPxIQ== root@9d8f8cab4bd5\n"
          ]
        }
      ]
    },
    {
      "cell_type": "code",
      "source": [
        "!git config --global user.email veeneshwarenperumal@gmail.com\n",
        "\n",
        "!git config --global user.name veeneshwarenperumal"
      ],
      "metadata": {
        "id": "AP9oIQumO4S6"
      },
      "execution_count": 10,
      "outputs": []
    },
    {
      "cell_type": "code",
      "source": [
        " !git clone git@github.com:VeeneshwarenPerumal/veeneshwaren_perumal_assignment_2"
      ],
      "metadata": {
        "colab": {
          "base_uri": "https://localhost:8080/"
        },
        "id": "GGuCqPqjO6-w",
        "outputId": "2f11d886-28de-4c90-c46a-5f9eca6b3665"
      },
      "execution_count": 9,
      "outputs": [
        {
          "output_type": "stream",
          "name": "stdout",
          "text": [
            "Cloning into 'veeneshwaren_perumal_assignment_2'...\n",
            "git@github.com: Permission denied (publickey).\n",
            "fatal: Could not read from remote repository.\n",
            "\n",
            "Please make sure you have the correct access rights\n",
            "and the repository exists.\n"
          ]
        }
      ]
    },
    {
      "cell_type": "code",
      "source": [
        " %cd /content/veeneshwaren_perumal_assignment_2"
      ],
      "metadata": {
        "colab": {
          "base_uri": "https://localhost:8080/"
        },
        "id": "Zzxrvv30PAq1",
        "outputId": "644066a7-ee9a-4a19-ba57-fe590d854334"
      },
      "execution_count": null,
      "outputs": [
        {
          "output_type": "stream",
          "name": "stdout",
          "text": [
            "/content/Programming-Assessment-2\n"
          ]
        }
      ]
    },
    {
      "cell_type": "code",
      "source": [
        "%ls"
      ],
      "metadata": {
        "colab": {
          "base_uri": "https://localhost:8080/"
        },
        "id": "Brk1esDcPCKN",
        "outputId": "068a80ee-af79-4d53-f862-f503d3a6bab9"
      },
      "execution_count": null,
      "outputs": [
        {
          "output_type": "stream",
          "name": "stdout",
          "text": [
            "README.md  test.txt\n"
          ]
        }
      ]
    },
    {
      "cell_type": "code",
      "source": [
        "!git init"
      ],
      "metadata": {
        "colab": {
          "base_uri": "https://localhost:8080/"
        },
        "id": "NmXsGZDnPE1W",
        "outputId": "678daf58-dd78-4439-f994-515482ab4112"
      },
      "execution_count": null,
      "outputs": [
        {
          "output_type": "stream",
          "name": "stdout",
          "text": [
            "Reinitialized existing Git repository in /content/Programming-Assessment-2/.git/\n"
          ]
        }
      ]
    },
    {
      "cell_type": "code",
      "source": [
        "!git status"
      ],
      "metadata": {
        "colab": {
          "base_uri": "https://localhost:8080/"
        },
        "id": "iCQc27M8PJvl",
        "outputId": "4972f2c4-8384-4b4b-983c-62de42b8d197"
      },
      "execution_count": null,
      "outputs": [
        {
          "output_type": "stream",
          "name": "stdout",
          "text": [
            "On branch main\n",
            "Your branch is up to date with 'origin/main'.\n",
            "\n",
            "Changes to be committed:\n",
            "  (use \"git restore --staged <file>...\" to unstage)\n",
            "\t\u001b[32mnew file:   product_popularity_simulation_starter2Final.ipynb\u001b[m\n",
            "\n"
          ]
        }
      ]
    },
    {
      "cell_type": "code",
      "source": [
        " !git add product_popularity_simulation_starter2Final.ipynb"
      ],
      "metadata": {
        "id": "7gzZDcFNPShz"
      },
      "execution_count": null,
      "outputs": []
    },
    {
      "cell_type": "code",
      "source": [
        "!git status"
      ],
      "metadata": {
        "colab": {
          "base_uri": "https://localhost:8080/"
        },
        "id": "kTl2Z7Z-PXZ0",
        "outputId": "50c13028-93fa-425d-e159-ab04514d700a"
      },
      "execution_count": null,
      "outputs": [
        {
          "output_type": "stream",
          "name": "stdout",
          "text": [
            "On branch main\n",
            "Your branch is up to date with 'origin/main'.\n",
            "\n",
            "Changes to be committed:\n",
            "  (use \"git restore --staged <file>...\" to unstage)\n",
            "\t\u001b[32mnew file:   product_popularity_simulation_starter2Final.ipynb\u001b[m\n",
            "\n"
          ]
        }
      ]
    },
    {
      "cell_type": "code",
      "source": [
        "!git commit -m \"1st commit\""
      ],
      "metadata": {
        "colab": {
          "base_uri": "https://localhost:8080/"
        },
        "id": "fdiQInUhPaD9",
        "outputId": "626f169a-7e4d-4c9e-adce-a8703e7346c1"
      },
      "execution_count": null,
      "outputs": [
        {
          "output_type": "stream",
          "name": "stdout",
          "text": [
            "[main ca4b0a9] 1st commit\n",
            " 1 file changed, 501 insertions(+)\n",
            " create mode 100644 product_popularity_simulation_starter2Final.ipynb\n"
          ]
        }
      ]
    },
    {
      "cell_type": "code",
      "source": [
        " !git push -u origin main"
      ],
      "metadata": {
        "colab": {
          "base_uri": "https://localhost:8080/"
        },
        "id": "subEvyJhPaqV",
        "outputId": "ed71b3e0-9f8f-4701-f08f-ec86758800e0"
      },
      "execution_count": null,
      "outputs": [
        {
          "output_type": "stream",
          "name": "stdout",
          "text": [
            "Enumerating objects: 4, done.\n",
            "Counting objects:  25% (1/4)\rCounting objects:  50% (2/4)\rCounting objects:  75% (3/4)\rCounting objects: 100% (4/4)\rCounting objects: 100% (4/4), done.\n",
            "Delta compression using up to 2 threads\n",
            "Compressing objects:  33% (1/3)\rCompressing objects:  66% (2/3)\rCompressing objects: 100% (3/3)\rCompressing objects: 100% (3/3), done.\n",
            "Writing objects:  33% (1/3)\rWriting objects:  66% (2/3)\rWriting objects: 100% (3/3)\rWriting objects: 100% (3/3), 3.63 KiB | 3.63 MiB/s, done.\n",
            "Total 3 (delta 0), reused 0 (delta 0), pack-reused 0\n",
            "To github.com:Ashlay01/Programming-Assessment-2.git\n",
            "   9ec1c5c..ca4b0a9  main -> main\n",
            "Branch 'main' set up to track remote branch 'main' from 'origin'.\n"
          ]
        }
      ]
    }
  ]
}