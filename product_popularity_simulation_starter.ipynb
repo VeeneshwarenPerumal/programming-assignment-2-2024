{
  "nbformat": 4,
  "nbformat_minor": 0,
  "metadata": {
    "colab": {
      "private_outputs": true,
      "provenance": []
    },
    "kernelspec": {
      "name": "python3",
      "display_name": "Python 3"
    },
    "language_info": {
      "name": "python"
    }
  },
  "cells": [
    {
      "cell_type": "markdown",
      "source": [
        "\n",
        ">*The outline below is provided below is designed to guide you effectively through the simulation, analysis, and evaluation processes. Feel free to adapt this suggested structure by adding or removing sections to best communicate your findings.*\n",
        "\n",
        "## Title, Author, and Introduction\n",
        "\n",
        "This notebook serves as an interactive report to simulate and analyze the popularity of products in the market place. It aims to provide a deeper understanding of market dynamics, the impact of marketing campgain, and potential marketing strategies for businesses dealing with products.\n",
        "\n",
        "## Simulation Overview\n",
        "\n",
        "Restate the purpose and what this notebook demonstrates.  Include a detailed explanation of each parameter used in the simulation with practical examples.\n",
        "\n",
        "\n",
        "## Baseline Simulation\n",
        "\n",
        "In this section we want to understand and visualise the popularity without the marketing day event event.\n",
        "\n",
        "First we need to install necessary packages.\n"
      ],
      "metadata": {
        "id": "uWDO64Y7L4G7"
      }
    },
    {
      "cell_type": "code",
      "execution_count": null,
      "metadata": {
        "id": "yLciWoraSagH"
      },
      "outputs": [],
      "source": [
        "# Install the simulation package\n",
        "!pip install git+https://github.com/teaching-repositories/simulacra.git -q"
      ]
    },
    {
      "cell_type": "markdown",
      "source": [
        "We need to\n",
        "  - **Import the necessary libraries**: Code cells to import libraries (like `matplotlib` for plotting and any other libraries needed).\n",
        "  - **Run the Simulation**: Code to run the simulation with zero marketing  impact.\n",
        "  - **Visualise the Results**: Plotting demand over time to establish a baseline."
      ],
      "metadata": {
        "id": "Mjebh7YoL34F"
      }
    },
    {
      "cell_type": "code",
      "source": [
        "from simulacra import ProductPopularitySimulation\n",
        "import matplotlib.pyplot as plt\n",
        "\n",
        "# Create a helper function\n",
        "def plot_demand(demand, promotion_day=None):\n",
        "    \"\"\"\n",
        "    Plots the demand simulation data with an optional marker for a marketing campaign.\n",
        "\n",
        "    Parameters:\n",
        "        demand (List[int]): A list of demand values to plot.\n",
        "        promotion_day (Optional[int]): The day a marketing campaign starts, marked on the plot.\n",
        "    \"\"\"\n",
        "    plt.figure(figsize=(10, 6))\n",
        "    plt.plot(demand, label='Product Demand')\n",
        "    if promotion_day is not None:\n",
        "        plt.axvline(x=promotion_day, color='blue', linestyle='--', label='Marketing Campaign Start')\n",
        "    plt.xlabel('Days')\n",
        "    plt.ylabel('Demand Units')\n",
        "    plt.title('Product Popularity Simulation')\n",
        "    plt.legend()\n",
        "    plt.show()\n",
        "\n",
        "# Setup the simulation\n",
        "sim = ProductPopularitySimulation(start_demand=500, days=180, growth_rate=0.02,\n",
        "                                      marketing_impact=0.1, promotion_day=30, promotion_effectiveness=0.5)\n",
        "\n",
        "# Run the simulation\n",
        "demand = sim.run_simulation()\n",
        "\n",
        "\n",
        "# Visualise the results\n",
        "plot_demand(demand, sim.promotion_day)"
      ],
      "metadata": {
        "id": "xk-CtCQmTJN7"
      },
      "execution_count": null,
      "outputs": []
    },
    {
      "cell_type": "markdown",
      "source": [
        "## Impact of Growth Rate and Marketing\n",
        "\n",
        "In this section, examine how different growth rates and marketing impacts affect demand. Discuss the observed trends and implications.\n"
      ],
      "metadata": {
        "id": "OnGJc7psPlzM"
      }
    },
    {
      "cell_type": "code",
      "source": [
        "# Code for growth rate and marketing\n",
        "\n",
        "# Simulate with different growth rates\n",
        "growth_rates = [0.01, 0.02, 0.03]\n",
        "\n",
        "for growth_rate in growth_rates:\n",
        "    sim = ProductPopularitySimulation(start_demand=500, days=180, growth_rate=growth_rate,\n",
        "                                          marketing_impact=0.1, promotion_day=30, promotion_effectiveness=0.5)\n",
        "    demand = sim.run_simulation()\n",
        "    plot_demand(demand, sim.promotion_day)\n",
        "\n",
        "# Simulate with different marketing impacts\n",
        "marketing_impacts = [0.05, 0.1, 0.15]\n",
        "\n",
        "for marketing_impact in marketing_impacts:\n",
        "    sim = ProductPopularitySimulation(start_demand=500, days=180, growth_rate=0.02,\n",
        "                                          marketing_impact=marketing_impact, promotion_day=30, promotion_effectiveness=0.5)\n",
        "    demand = sim.run_simulation()\n",
        "    plot_demand(demand, sim.promotion_day)\n"
      ],
      "metadata": {
        "id": "qG8xM4-3Jh2D"
      },
      "execution_count": null,
      "outputs": []
    },
    {
      "cell_type": "markdown",
      "source": [
        "\n",
        "## Marketing Campaign Analysis\n",
        "\n",
        "In this section, analyze the effect of a major marketing campaign.  Include code to set up different scenarios with varying campaign effectiveness. Use markers or lines to denote campaign start and assess impact. Overlay plots or perform a Side-by-side comparison to show different campaign effects.\n"
      ],
      "metadata": {
        "id": "Re3VZPTrPp6V"
      }
    },
    {
      "cell_type": "code",
      "source": [
        " # Code for marketing campaign\n",
        "\n",
        "# Simulate with different promotion effectiveness\n",
        "promotion_effectiveness = [0.2, 0.5, 0.8]\n",
        "\n",
        "for promotion_effectiveness in promotion_effectiveness:\n",
        "    sim = ProductPopularitySimulation(start_demand=500, days=180, growth_rate=0.02,\n",
        "                                          marketing_impact=0.1, promotion_day=30, promotion_effectiveness=promotion_effectiveness)\n",
        "    demand = sim.run_simulation()\n",
        "    plot_demand(demand, sim.promotion_day)\n",
        "\n",
        "# Simulate with different promotion days\n",
        "promotion_days = [15, 30, 45]\n",
        "\n",
        "for promotion_day in promotion_days:\n",
        "    sim = ProductPopularitySimulation(start_demand=500, days=180, growth_rate=0.02,\n",
        "                                          marketing_impact=0.1, promotion_day=promotion_day, promotion_effectiveness=0.5)\n",
        "    demand = sim.run_simulation()\n",
        "    plot_demand(demand, sim.promotion_day)\n"
      ],
      "metadata": {
        "id": "HG0yUXIWJvUD"
      },
      "execution_count": null,
      "outputs": []
    },
    {
      "cell_type": "markdown",
      "source": [
        "\n",
        "## Advanced Marketing Strategies (Optional)\n",
        "\n",
        "In this section, explore and compare the effectiveness of different marketing strategies. Set up various hypothetical scenarios with assumed costs and effects. Code to calculate and compare ROI based on increased demand and strategy costs.\n",
        "Use graphs to show strategy effectiveness versus cost.\n"
      ],
      "metadata": {
        "id": "cjnjcVfDPtHX"
      }
    },
    {
      "cell_type": "code",
      "source": [
        "# Code for advanced marketing strategies"
      ],
      "metadata": {
        "id": "mJ0LMNK0wzOJ"
      },
      "execution_count": null,
      "outputs": []
    },
    {
      "cell_type": "code",
      "source": [
        "import numpy as np\n",
        "import matplotlib.pyplot as plt\n",
        "\n",
        "class ProductPopularitySimulation:\n",
        "    def __init__(self, start_demand, days, growth_rate, marketing_impact, promotion_day, promotion_effectiveness, marketing_budget=10000):\n",
        "        self.start_demand = start_demand\n",
        "        self.days = days\n",
        "        self.growth_rate = growth_rate\n",
        "        self.marketing_impact = marketing_impact\n",
        "        self.promotion_day = promotion_day\n",
        "        self.promotion_effectiveness = promotion_effectiveness\n",
        "        self.marketing_budget = marketing_budget\n",
        "\n",
        "    def run_simulation(self):\n",
        "        demand = [self.start_demand]\n",
        "        for day in range(1, self.days + 1):\n",
        "            if day == self.promotion_day:\n",
        "                new_demand = demand[-1] * (1 + self.promotion_effectiveness)\n",
        "            else:\n",
        "                new_demand = demand[-1] * (1 + self.growth_rate)\n",
        "\n",
        "            if day > self.promotion_day:\n",
        "                new_demand *= (1 + self.marketing_impact)\n",
        "\n",
        "            demand.append(new_demand)\n",
        "        return demand\n",
        "\n",
        "# Baseline demand without any marketing\n",
        "sim = ProductPopularitySimulation(start_demand=500, days=180, growth_rate=0.02, marketing_impact=0.0, promotion_day=0, promotion_effectiveness=0.0)\n",
        "demand = sim.run_simulation()\n"
      ],
      "metadata": {
        "id": "RSL5ofRBLJ1p"
      },
      "execution_count": null,
      "outputs": []
    },
    {
      "cell_type": "code",
      "source": [
        "# Strategy 1: Increase marketing impact\n",
        "sim = ProductPopularitySimulation(start_demand=500, days=180, growth_rate=0.02,\n",
        "                                      marketing_impact=0.2, promotion_day=30, promotion_effectiveness=0.5)\n",
        "demand_high_impact = sim.run_simulation()\n",
        "\n",
        "# Strategy 2: Increase promotion effectiveness\n",
        "sim = ProductPopularitySimulation(start_demand=500, days=180, growth_rate=0.02,\n",
        "                                      marketing_impact=0.1, promotion_day=30, promotion_effectiveness=0.8)\n",
        "demand_high_effectiveness = sim.run_simulation()\n",
        "\n",
        "# Strategy 3: Earlier promotion day\n",
        "sim = ProductPopularitySimulation(start_demand=500, days=180, growth_rate=0.02,\n",
        "                                      marketing_impact=0.1, promotion_day=15, promotion_effectiveness=0.5)\n",
        "demand_early_promotion = sim.run_simulation()\n"
      ],
      "metadata": {
        "id": "A9EpTHvgLL0t"
      },
      "execution_count": null,
      "outputs": []
    },
    {
      "cell_type": "code",
      "source": [
        "# Calculate ROI for each strategy\n",
        "def calculate_roi(demand_scenario, baseline_demand, marketing_budget):\n",
        "    increased_revenue = sum(demand_scenario) - sum(baseline_demand)\n",
        "    roi = (increased_revenue - marketing_budget) / marketing_budget * 100\n",
        "    return roi\n",
        "\n",
        "roi_high_impact = calculate_roi(demand_high_impact, demand, 0.2 * sim.marketing_budget)\n",
        "roi_high_effectiveness = calculate_roi(demand_high_effectiveness, demand, 0.1 * sim.marketing_budget)\n",
        "roi_early_promotion = calculate_roi(demand_early_promotion, demand, 0.1 * sim.marketing_budget)\n"
      ],
      "metadata": {
        "id": "IYKNXbxCLPzi"
      },
      "execution_count": null,
      "outputs": []
    },
    {
      "cell_type": "code",
      "source": [
        "# Plot the results\n",
        "plt.figure(figsize=(10, 6))\n",
        "plt.plot(demand, label='Baseline')\n",
        "plt.plot(demand_high_impact, label='High Marketing Impact')\n",
        "plt.plot(demand_high_effectiveness, label='High Promotion Effectiveness')\n",
        "plt.plot(demand_early_promotion, label='Early Promotion Day')\n",
        "plt.axvline(x=30, color='blue', linestyle='--', label='Marketing Campaign Start')\n",
        "plt.xlabel('Days')\n",
        "plt.ylabel('Demand Units')\n",
        "plt.title('Comparison of Marketing Strategies')\n",
        "plt.legend()\n",
        "plt.show()\n",
        "\n",
        "# Print the ROI for each strategy\n",
        "print('ROI for high marketing impact:', roi_high_impact)\n",
        "print('ROI for high promotion effectiveness:', roi_high_effectiveness)\n",
        "print('ROI for early promotion day:', roi_early_promotion)\n"
      ],
      "metadata": {
        "id": "j3MCUEEMLXL7"
      },
      "execution_count": null,
      "outputs": []
    },
    {
      "cell_type": "markdown",
      "source": [
        "## Conclusions\n",
        "Summarise the insights gained from the simulations, implications for businesses, and potential strategies for managing pricing price flucations in volatile markets.\n",
        "\n",
        "## Challenges and Further Research\n",
        "Discuss any limitations encountered during the simulations and suggest areas for further exploration or improvement in future studies.\n",
        "\n",
        "## References and Additional Resources\n",
        "Any sources used for data or concepts."
      ],
      "metadata": {
        "id": "4mltezShzq6b"
      }
    },
    {
      "cell_type": "markdown",
      "source": [
        "**Conclusions**\n",
        "\n",
        "The models show that different marketing tactics, such as making marketing more effective, setting deals earlier, and increasing their impact, can greatly increase demand and provide a high return on investment (ROI). Effective marketing leads to big increases in sales, and early deals quickly get people interested. Businesses should carefully divide their resources, making sure that the effects of their marketing and promotions are balanced, and they should plan their schedules well. Keeping an eye on price changes is very important in markets that are unstable. Using customer segments, dynamic prices, and contracts to stabilize input costs all help businesses stay profitable. Value-based prices, flexible contracts, and better control of supplies all lower risks even more. Businesses can deal with uncertainty and ensure long-term growth by using these strategies.\n",
        "\n",
        "**Challenges and Further Research**\n",
        "\n",
        "Static parameters and demand modelling simplifications were obstacles that functioned as challenges. These obstacles were obstacles that served as challenges. To make better predictions, future research should look into live models of market events and include data from the present moment.\n",
        "\n",
        "\n",
        "\n",
        "\n",
        "\n",
        "\n",
        "\n",
        "\n",
        "\n"
      ],
      "metadata": {
        "id": "ieYGRmhBNsvh"
      }
    }
  ]
}